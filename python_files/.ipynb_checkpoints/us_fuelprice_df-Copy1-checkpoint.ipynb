{
 "cells": [
  {
   "cell_type": "code",
   "execution_count": 21,
   "metadata": {},
   "outputs": [],
   "source": [
    "from bs4 import BeautifulSoup\n",
    "import requests\n",
    "import pandas as pd\n",
    "import numpy as np\n",
    "import re\n",
    "import os\n",
    "\n",
    "from dvc.api import make_checkpoint\n",
    "from pyspark.sql import SparkSession\n",
    "os.environ[\"JAVA_HOME\"] = \"/usr/lib/jvm/java-8-openjdk-amd64\"\n",
    "os.environ[\"SPARK_HOME\"] = \"/project/spark-3.2.1-bin-hadoop3.2\""
   ]
  },
  {
   "cell_type": "code",
   "execution_count": 22,
   "metadata": {},
   "outputs": [],
   "source": [
    "spark = SparkSession \\\n",
    "    .builder \\\n",
    "    .appName(\"PySpark App\") \\\n",
    "    .config(\"spark.jars\", \"postgresql-42.3.2.jar\") \\\n",
    "    .getOrCreate()"
   ]
  },
  {
   "cell_type": "code",
   "execution_count": 12,
   "metadata": {},
   "outputs": [],
   "source": [
    "us_url = 'https://www.eia.gov/dnav/pet/hist/LeafHandler.ashx?n=PET&s=EMM_EPM0U_PTE_NUS_DPG&f=W'\n",
    "r = requests.get(us_url)\n",
    "\n",
    "# Check status\n",
    "r.status_code\n",
    "\n",
    "# Get text from website\n",
    "soup= BeautifulSoup(r.text, 'lxml')"
   ]
  },
  {
   "cell_type": "code",
   "execution_count": 13,
   "metadata": {},
   "outputs": [],
   "source": [
    "table = soup.find('table', {'class' : \"FloatTitle\"})\n",
    "\n",
    "row_data=[]\n",
    "for row in table.find('tbody').find_all('tr')[1:]:\n",
    "    data = row.find_all('td')\n",
    "    col = [td.text.strip() for td in data]\n",
    "    row_data.append(col)\n"
   ]
  },
  {
   "cell_type": "code",
   "execution_count": 14,
   "metadata": {},
   "outputs": [
    {
     "data": {
      "text/plain": [
       "329"
      ]
     },
     "execution_count": 14,
     "metadata": {},
     "output_type": "execute_result"
    }
   ],
   "source": [
    "for i in row_data:\n",
    "    if len(i) < 10:\n",
    "        row_data.remove(i)\n",
    "        \n",
    "len(row_data)"
   ]
  },
  {
   "cell_type": "code",
   "execution_count": 15,
   "metadata": {},
   "outputs": [],
   "source": [
    "for i in row_data:\n",
    "    i[1] = i[0][:4]+ '/' + i[1]\n",
    "    i[3] = i[0][:4]+ '/' + i[3]\n",
    "    i[5] = i[0][:4]+ '/' + i[5]\n",
    "    i[7] = i[0][:4]+ '/' + i[7]\n",
    "    i[9] = i[0][:4]+ '/' + i[9] \n",
    "    \n",
    "df = pd.DataFrame(row_data)"
   ]
  },
  {
   "cell_type": "code",
   "execution_count": 16,
   "metadata": {},
   "outputs": [],
   "source": [
    "dictionary = dict(zip(df[1], df[2]))\n",
    "i=3\n",
    "\n",
    "while i <=9:\n",
    "    diction = dict(zip(df[i], df[i+1]))\n",
    "    dictionary.update(diction)\n",
    "    i+=2"
   ]
  },
  {
   "cell_type": "code",
   "execution_count": 17,
   "metadata": {},
   "outputs": [
    {
     "data": {
      "text/html": [
       "<div>\n",
       "<style scoped>\n",
       "    .dataframe tbody tr th:only-of-type {\n",
       "        vertical-align: middle;\n",
       "    }\n",
       "\n",
       "    .dataframe tbody tr th {\n",
       "        vertical-align: top;\n",
       "    }\n",
       "\n",
       "    .dataframe thead th {\n",
       "        text-align: right;\n",
       "    }\n",
       "</style>\n",
       "<table border=\"1\" class=\"dataframe\">\n",
       "  <thead>\n",
       "    <tr style=\"text-align: right;\">\n",
       "      <th></th>\n",
       "      <th>Date</th>\n",
       "      <th>Price</th>\n",
       "    </tr>\n",
       "  </thead>\n",
       "  <tbody>\n",
       "    <tr>\n",
       "      <th>0</th>\n",
       "      <td>1994/12/05</td>\n",
       "      <td>1.143</td>\n",
       "    </tr>\n",
       "    <tr>\n",
       "      <th>1</th>\n",
       "      <td>1995/01/02</td>\n",
       "      <td>1.104</td>\n",
       "    </tr>\n",
       "    <tr>\n",
       "      <th>2</th>\n",
       "      <td>1995/02/06</td>\n",
       "      <td>1.103</td>\n",
       "    </tr>\n",
       "    <tr>\n",
       "      <th>3</th>\n",
       "      <td>1995/03/06</td>\n",
       "      <td>1.103</td>\n",
       "    </tr>\n",
       "    <tr>\n",
       "      <th>4</th>\n",
       "      <td>1995/04/03</td>\n",
       "      <td>1.116</td>\n",
       "    </tr>\n",
       "    <tr>\n",
       "      <th>...</th>\n",
       "      <td>...</td>\n",
       "      <td>...</td>\n",
       "    </tr>\n",
       "    <tr>\n",
       "      <th>1453</th>\n",
       "      <td>2021/03/29</td>\n",
       "      <td>2.839</td>\n",
       "    </tr>\n",
       "    <tr>\n",
       "      <th>1454</th>\n",
       "      <td>2021/05/31</td>\n",
       "      <td>2.997</td>\n",
       "    </tr>\n",
       "    <tr>\n",
       "      <th>1455</th>\n",
       "      <td>2021/08/30</td>\n",
       "      <td>3.118</td>\n",
       "    </tr>\n",
       "    <tr>\n",
       "      <th>1456</th>\n",
       "      <td>2021/11/29</td>\n",
       "      <td>3.326</td>\n",
       "    </tr>\n",
       "    <tr>\n",
       "      <th>1457</th>\n",
       "      <td>2022/01/31</td>\n",
       "      <td>3.321</td>\n",
       "    </tr>\n",
       "  </tbody>\n",
       "</table>\n",
       "<p>1458 rows × 2 columns</p>\n",
       "</div>"
      ],
      "text/plain": [
       "            Date  Price\n",
       "0     1994/12/05  1.143\n",
       "1     1995/01/02  1.104\n",
       "2     1995/02/06  1.103\n",
       "3     1995/03/06  1.103\n",
       "4     1995/04/03  1.116\n",
       "...          ...    ...\n",
       "1453  2021/03/29  2.839\n",
       "1454  2021/05/31  2.997\n",
       "1455  2021/08/30  3.118\n",
       "1456  2021/11/29  3.326\n",
       "1457  2022/01/31  3.321\n",
       "\n",
       "[1458 rows x 2 columns]"
      ]
     },
     "execution_count": 17,
     "metadata": {},
     "output_type": "execute_result"
    }
   ],
   "source": [
    "us_fuelprice = pd.DataFrame(list(dictionary.items()),columns = ['Date','Price'] )\n",
    "us_fuelprice"
   ]
  },
  {
   "cell_type": "code",
   "execution_count": 18,
   "metadata": {},
   "outputs": [],
   "source": [
    "us_fuelprice.drop( (us_fuelprice[us_fuelprice['Price'].map(len) < 1]).index, inplace=True)\n",
    "\n",
    "# Sort the dataframe by time\n",
    "us_fuelprice.sort_values(by='Date', inplace= True)"
   ]
  },
  {
   "cell_type": "code",
   "execution_count": 19,
   "metadata": {},
   "outputs": [],
   "source": [
    "us_fuelprice.reset_index(drop = True, inplace = True)\n",
    "us_fuelprice = us_fuelprice.rename(columns = {'Date':'date','Price': 'price'})"
   ]
  },
  {
   "cell_type": "code",
   "execution_count": 23,
   "metadata": {},
   "outputs": [
    {
     "name": "stdout",
     "output_type": "stream",
     "text": [
      "root\n",
      " |-- date: string (nullable = true)\n",
      " |-- price: string (nullable = true)\n",
      "\n"
     ]
    }
   ],
   "source": [
    "us_fuelprice_df = spark.createDataFrame(us_fuelprice)\n",
    "us_fuelprice_df.write.parquet(\"/project/DataEngineering/parquet_files/us_fuelprice.parquet\", mode = 'overwrite')\n",
    "us_fuelprice_df.printSchema()\n"
   ]
  },
  {
   "cell_type": "code",
   "execution_count": 25,
   "metadata": {},
   "outputs": [],
   "source": [
    "make_checkpoint()"
   ]
  },
  {
   "cell_type": "code",
   "execution_count": null,
   "metadata": {},
   "outputs": [],
   "source": []
  }
 ],
 "metadata": {
  "kernelspec": {
   "display_name": "Python [conda env:Python3] *",
   "language": "python",
   "name": "conda-env-Python3-py"
  },
  "language_info": {
   "codemirror_mode": {
    "name": "ipython",
    "version": 3
   },
   "file_extension": ".py",
   "mimetype": "text/x-python",
   "name": "python",
   "nbconvert_exporter": "python",
   "pygments_lexer": "ipython3",
   "version": "3.8.2"
  }
 },
 "nbformat": 4,
 "nbformat_minor": 2
}
