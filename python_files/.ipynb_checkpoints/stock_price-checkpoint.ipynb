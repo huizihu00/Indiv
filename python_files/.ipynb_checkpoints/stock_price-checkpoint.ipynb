{
 "cells": [
  {
   "cell_type": "code",
   "execution_count": null,
   "metadata": {},
   "outputs": [],
   "source": [
    "uga = spark.read.parquet(\"/project/DataEngineering/parquet_files/uga_info.parquet\").toPandas()\n",
    "uga['High']= uga['High'].astype(float)\n",
    "uga['Low']= uga['Low'].astype(float)\n",
    "uga['Close']= uga['Close'].astype(float)\n",
    "uga['Volume']= uga['Volume'].astype(float)"
   ]
  },
  {
   "cell_type": "code",
   "execution_count": null,
   "metadata": {},
   "outputs": [],
   "source": [
    "# Get difference of stock price within one week\n",
    "uga['uga_Difference'] = (uga['High'] - uga['Low'])/uga['Close']*100\n",
    "uga.drop(labels= ['High', 'Low', 'Open', 'Adj_Close'], axis=1, inplace=True)"
   ]
  },
  {
   "cell_type": "code",
   "execution_count": null,
   "metadata": {},
   "outputs": [],
   "source": [
    "uga = uga.rename(columns={\"Date\": \"date\", \"Close\":\"uga_close\", \"Volume\":\"uga_volume\", \"uga_Difference\":\"uga_difference\"})\n"
   ]
  },
  {
   "cell_type": "code",
   "execution_count": null,
   "metadata": {},
   "outputs": [],
   "source": [
    "shell = spark.read.parquet(\"/project/DataEngineering/parquet_files/shell_info.parquet\").toPandas()\n"
   ]
  },
  {
   "cell_type": "code",
   "execution_count": null,
   "metadata": {},
   "outputs": [],
   "source": [
    "shell['High']= shell['High'].astype(float)\n",
    "shell['Low']= shell['Low'].astype(float)\n",
    "shell['Close']= shell['Close'].astype(float)\n",
    "shell['Volume']= shell['Volume'].astype(float)"
   ]
  },
  {
   "cell_type": "code",
   "execution_count": null,
   "metadata": {},
   "outputs": [],
   "source": []
  },
  {
   "cell_type": "code",
   "execution_count": null,
   "metadata": {},
   "outputs": [],
   "source": []
  },
  {
   "cell_type": "code",
   "execution_count": null,
   "metadata": {},
   "outputs": [],
   "source": []
  },
  {
   "cell_type": "code",
   "execution_count": null,
   "metadata": {},
   "outputs": [],
   "source": []
  },
  {
   "cell_type": "code",
   "execution_count": null,
   "metadata": {},
   "outputs": [],
   "source": []
  }
 ],
 "metadata": {
  "kernelspec": {
   "display_name": "Python [conda env:Python3] *",
   "language": "python",
   "name": "conda-env-Python3-py"
  },
  "language_info": {
   "codemirror_mode": {
    "name": "ipython",
    "version": 3
   },
   "file_extension": ".py",
   "mimetype": "text/x-python",
   "name": "python",
   "nbconvert_exporter": "python",
   "pygments_lexer": "ipython3",
   "version": "3.8.2"
  }
 },
 "nbformat": 4,
 "nbformat_minor": 2
}
